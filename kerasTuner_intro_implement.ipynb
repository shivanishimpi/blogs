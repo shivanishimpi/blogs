{
  "nbformat": 4,
  "nbformat_minor": 0,
  "metadata": {
    "colab": {
      "name": "kerasTuner-intro-implement.ipynb",
      "provenance": [],
      "authorship_tag": "ABX9TyODVieenaIITkMblVb6Yt3O",
      "include_colab_link": true
    },
    "kernelspec": {
      "name": "python3",
      "display_name": "Python 3"
    }
  },
  "cells": [
    {
      "cell_type": "markdown",
      "metadata": {
        "id": "view-in-github",
        "colab_type": "text"
      },
      "source": [
        "<a href=\"https://colab.research.google.com/github/shivanishimpi/blogs/blob/main/kerasTuner_intro_implement.ipynb\" target=\"_parent\"><img src=\"https://colab.research.google.com/assets/colab-badge.svg\" alt=\"Open In Colab\"/></a>"
      ]
    },
    {
      "cell_type": "markdown",
      "metadata": {
        "id": "FHFDkpSxVC7L"
      },
      "source": [
        "> This notebook has all the code used in the [keras-tuner blog](https://shivanishimpi9.medium.com/choosing-the-right-set-of-hyperparameters-keras-tuner-introduction-implementation-d4c387f4d655?postPublishedType=repub) \n",
        "\n",
        "\n",
        "Date Created: January 12, 2021\n",
        "\n",
        "**Author:** Shivani Shimpi\n",
        "\n",
        "Drop me an [email](mailto:shivanishimpi9@gmail.com) or reach out to me on -\n",
        "[[GitHub](https://github.com/shivanishimpi)] [[LinkedIn](https://www.linkedin.com/in/shivani-shimpi-5113a8170/)]"
      ]
    },
    {
      "cell_type": "markdown",
      "metadata": {
        "id": "o6zVZsnxaEHS"
      },
      "source": [
        "Note: \n",
        "\n",
        "This tutorial is not going to help you to build TensorFlow models, instead will be a guide to using `keras-tuner` on your existing models. Therefore these are certain code blocks that will help you modify and train your models efficiently.\n",
        "\n",
        "[Click here](https://github.com/shivanishimpi/blogs/blob/main/ANN_with_keras_tuner.ipynb) to get the executable code.\n",
        "\n",
        "[Click here](https://shivanishimpi9.medium.com/choosing-the-right-set-of-hyperparameters-keras-tuner-introduction-implementation-d4c387f4d655) for the medium blog."
      ]
    },
    {
      "cell_type": "markdown",
      "metadata": {
        "id": "CUt9ErelcSeC"
      },
      "source": [
        "## classical-model"
      ]
    },
    {
      "cell_type": "code",
      "metadata": {
        "id": "riJXGQRcU7bl"
      },
      "source": [
        "import tensorflow as tf\n",
        "from tensorflow import keras\n",
        "from tensorflow.keras.layers import Dense, Activation\n",
        "\n",
        "def build_model():\n",
        "  model = keras.models.Sequential()\n",
        "  model.add(Dense(16))\n",
        "  model.add(Activation('relu'))\n",
        "  model.add(Dense(32))\n",
        "  model.add(Activation('relu'))\n",
        "  model.add(Dense(1))\n",
        "  \n",
        "  model.compile(\n",
        "    loss='mean_absolute_error',\n",
        "    optimizer=tf.keras.optimizers.Adam(0.001),\n",
        "    metrics = ['mae','mse'])\n",
        "  \n",
        "  return model\n",
        "\n",
        "model = build_model()\n",
        "\n",
        "numEpochs = 50\n",
        "\n",
        "history = model.fit(\n",
        "  trainFeatures,\n",
        "  trainLabels,\n",
        "  epochs=numEpochs,\n",
        "  validation_data=(testFeatures,testLabels)\n",
        ")"
      ],
      "execution_count": null,
      "outputs": []
    },
    {
      "cell_type": "markdown",
      "metadata": {
        "id": "bcJLAECscQmK"
      },
      "source": [
        "##keras-tuner"
      ]
    },
    {
      "cell_type": "code",
      "metadata": {
        "id": "TNDjphseXzND"
      },
      "source": [
        "!pip install -U keras-tuner"
      ],
      "execution_count": null,
      "outputs": []
    },
    {
      "cell_type": "code",
      "metadata": {
        "id": "3zn4-XV0XxNB"
      },
      "source": [
        "import kerastuner\n",
        "from kerastuner.tuners import RandomSearch\n",
        "from kerastuner.engine.hyperparameters import HyperParameters\n",
        "import time"
      ],
      "execution_count": null,
      "outputs": []
    },
    {
      "cell_type": "code",
      "metadata": {
        "id": "FkJmMGNkX3Fb"
      },
      "source": [
        "LOG_DIR = f\"{int(time.time())}\"\n",
        "\n",
        "def build_model(hp):\n",
        "  model = keras.models.Sequential()\n",
        "  model.add(Dense(\n",
        "    hp.Int('input_units', min_value=12, max_value=256),\n",
        "    input_shape=trainFeatures.shape[1:]\n",
        "  ))\n",
        "  model.add(Activation('relu'))\n",
        "  \n",
        "  for i in range(hp.Int(\"n_layers\", min_value=1, max_value=5)):\n",
        "    model.add(Dense(hp.Int(f\"dense_{i}_units\", 32, 256)))\n",
        "    model.add(Activation('relu'))\n",
        "  \n",
        "  model.add(Dense(1))\n",
        "  \n",
        "  model.compile(\n",
        "    loss='mean_absolute_error',\n",
        "    optimizer=tf.keras.optimizers.Adam(\n",
        "      hp.Choice('lr',[0.001,0.01,0.002,0.2])\n",
        "    ),\n",
        "    metrics = ['mae','mse'])\n",
        "    \n",
        "  return model"
      ],
      "execution_count": null,
      "outputs": []
    },
    {
      "cell_type": "code",
      "metadata": {
        "id": "0lwyaTW1X6WG"
      },
      "source": [
        "tuner = RandomSearch(\n",
        "    build_model,\n",
        "    objective='val_mae',\n",
        "    max_trials = 10,\n",
        "    executions_per_trial = 2,\n",
        "    directory = LOG_DIR\n",
        ")"
      ],
      "execution_count": null,
      "outputs": []
    },
    {
      "cell_type": "code",
      "metadata": {
        "id": "znylgNOZX8vm"
      },
      "source": [
        "tuner.search(\n",
        "    x = trainFeatures,\n",
        "    y = trainLabels,\n",
        "    epochs = 50,\n",
        "    validation_data = (testFeatures ,testLabels)\n",
        ")"
      ],
      "execution_count": null,
      "outputs": []
    },
    {
      "cell_type": "code",
      "metadata": {
        "id": "pJ0H7QypbFQ9"
      },
      "source": [
        "tuner.results_summary() #returns top ten results"
      ],
      "execution_count": null,
      "outputs": []
    },
    {
      "cell_type": "code",
      "metadata": {
        "id": "5zhbcZedbA1L"
      },
      "source": [
        "tuner.get_best_models()[0].summary() #returns the best model"
      ],
      "execution_count": null,
      "outputs": []
    },
    {
      "cell_type": "code",
      "metadata": {
        "id": "TyM9UcTra-xw"
      },
      "source": [
        "#To save the model for resue\n",
        "\n",
        "import pickle\n",
        "#Saves the tuner as pickle obje\n",
        "with open(f'tuner_{int(time.time())}.pkl', 'wb') as f:\n",
        "    pickle.dump(tuner, f)\n",
        "#Loads the former object\n",
        "tuner = pickle.load(open('tuner_1610218332.pkl','rb'))"
      ],
      "execution_count": null,
      "outputs": []
    },
    {
      "cell_type": "markdown",
      "metadata": {
        "id": "P3rRFHmzbR2i"
      },
      "source": [
        "## Conclusions\n",
        "\n",
        "\n",
        "\n",
        "That’s it from my side. Thanks for reading! Hope you learned something new.\n",
        "Reach out to me if you have any suggestions or questions. It would encourage me to continue writing, besides, I will be more than happy to receive them.\n",
        "\n",
        "You can check out my [website](http://shivanishimpi.github.io/) for more updates. Follow me on [Medium](https://shivanishimpi9.medium.com/) and [GitHub](github.com/shivanishimpi) for more such content. Let’s also connect on [LinkedIn](https://www.linkedin.com/in/shivani-shimpi-5113a8170/).\n",
        "\n",
        "\n",
        "To get a video illustration of this you can check out the [YouTube video](https://youtu.be/DQuS_cZg2wI?t=3648)"
      ]
    }
  ]
}